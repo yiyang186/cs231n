{
 "cells": [
  {
   "cell_type": "markdown",
   "metadata": {},
   "source": [
    "# Softmax exercise\n",
    "\n",
    "*Complete and hand in this completed worksheet (including its outputs and any supporting code outside of the worksheet) with your assignment submission. For more details see the [assignments page](http://vision.stanford.edu/teaching/cs231n/assignments.html) on the course website.*\n",
    "\n",
    "This exercise is analogous to the SVM exercise. You will:\n",
    "\n",
    "- implement a fully-vectorized **loss function** for the Softmax classifier\n",
    "- implement the fully-vectorized expression for its **analytic gradient**\n",
    "- **check your implementation** with numerical gradient\n",
    "- use a validation set to **tune the learning rate and regularization** strength\n",
    "- **optimize** the loss function with **SGD**\n",
    "- **visualize** the final learned weights\n"
   ]
  },
  {
   "cell_type": "code",
   "execution_count": 1,
   "metadata": {
    "collapsed": false
   },
   "outputs": [],
   "source": [
    "import random\n",
    "import numpy as np\n",
    "from cs231n.data_utils import load_CIFAR10\n",
    "import matplotlib.pyplot as plt\n",
    "\n",
    "from __future__ import print_function\n",
    "\n",
    "%matplotlib inline\n",
    "plt.rcParams['figure.figsize'] = (10.0, 8.0) # set default size of plots\n",
    "plt.rcParams['image.interpolation'] = 'nearest'\n",
    "plt.rcParams['image.cmap'] = 'gray'\n",
    "\n",
    "# for auto-reloading extenrnal modules\n",
    "# see http://stackoverflow.com/questions/1907993/autoreload-of-modules-in-ipython\n",
    "%load_ext autoreload\n",
    "%autoreload 2"
   ]
  },
  {
   "cell_type": "code",
   "execution_count": 2,
   "metadata": {
    "collapsed": false
   },
   "outputs": [
    {
     "name": "stdout",
     "output_type": "stream",
     "text": [
      "Train data shape:  (49000, 3073)\n",
      "Train labels shape:  (49000,)\n",
      "Validation data shape:  (1000, 3073)\n",
      "Validation labels shape:  (1000,)\n",
      "Test data shape:  (1000, 3073)\n",
      "Test labels shape:  (1000,)\n",
      "dev data shape:  (500, 3073)\n",
      "dev labels shape:  (500,)\n"
     ]
    }
   ],
   "source": [
    "def get_CIFAR10_data(num_training=49000, num_validation=1000, num_test=1000, num_dev=500):\n",
    "    \"\"\"\n",
    "    Load the CIFAR-10 dataset from disk and perform preprocessing to prepare\n",
    "    it for the linear classifier. These are the same steps as we used for the\n",
    "    SVM, but condensed to a single function.  \n",
    "    \"\"\"\n",
    "    # Load the raw CIFAR-10 data\n",
    "    cifar10_dir = 'cs231n/datasets/cifar-10-batches-py'\n",
    "    X_train, y_train, X_test, y_test = load_CIFAR10(cifar10_dir)\n",
    "    \n",
    "    # subsample the data\n",
    "    mask = list(range(num_training, num_training + num_validation))\n",
    "    X_val = X_train[mask]\n",
    "    y_val = y_train[mask]\n",
    "    mask = list(range(num_training))\n",
    "    X_train = X_train[mask]\n",
    "    y_train = y_train[mask]\n",
    "    mask = list(range(num_test))\n",
    "    X_test = X_test[mask]\n",
    "    y_test = y_test[mask]\n",
    "    mask = np.random.choice(num_training, num_dev, replace=False)\n",
    "    X_dev = X_train[mask]\n",
    "    y_dev = y_train[mask]\n",
    "    \n",
    "    # Preprocessing: reshape the image data into rows\n",
    "    X_train = np.reshape(X_train, (X_train.shape[0], -1))\n",
    "    X_val = np.reshape(X_val, (X_val.shape[0], -1))\n",
    "    X_test = np.reshape(X_test, (X_test.shape[0], -1))\n",
    "    X_dev = np.reshape(X_dev, (X_dev.shape[0], -1))\n",
    "    \n",
    "    # Normalize the data: subtract the mean image\n",
    "    mean_image = np.mean(X_train, axis = 0)\n",
    "    X_train -= mean_image\n",
    "    X_val -= mean_image\n",
    "    X_test -= mean_image\n",
    "    X_dev -= mean_image\n",
    "    \n",
    "    # add bias dimension and transform into columns\n",
    "    X_train = np.hstack([X_train, np.ones((X_train.shape[0], 1))])\n",
    "    X_val = np.hstack([X_val, np.ones((X_val.shape[0], 1))])\n",
    "    X_test = np.hstack([X_test, np.ones((X_test.shape[0], 1))])\n",
    "    X_dev = np.hstack([X_dev, np.ones((X_dev.shape[0], 1))])\n",
    "    \n",
    "    return X_train, y_train, X_val, y_val, X_test, y_test, X_dev, y_dev\n",
    "\n",
    "\n",
    "# Invoke the above function to get our data.\n",
    "X_train, y_train, X_val, y_val, X_test, y_test, X_dev, y_dev = get_CIFAR10_data()\n",
    "print('Train data shape: ', X_train.shape)\n",
    "print('Train labels shape: ', y_train.shape)\n",
    "print('Validation data shape: ', X_val.shape)\n",
    "print('Validation labels shape: ', y_val.shape)\n",
    "print('Test data shape: ', X_test.shape)\n",
    "print('Test labels shape: ', y_test.shape)\n",
    "print('dev data shape: ', X_dev.shape)\n",
    "print('dev labels shape: ', y_dev.shape)"
   ]
  },
  {
   "cell_type": "markdown",
   "metadata": {},
   "source": [
    "## Softmax Classifier\n",
    "\n",
    "Your code for this section will all be written inside **cs231n/classifiers/softmax.py**. \n"
   ]
  },
  {
   "cell_type": "code",
   "execution_count": 16,
   "metadata": {
    "collapsed": false
   },
   "outputs": [
    {
     "name": "stdout",
     "output_type": "stream",
     "text": [
      "loss: 2.339684\n",
      "sanity check: 2.302585\n"
     ]
    }
   ],
   "source": [
    "# First implement the naive softmax loss function with nested loops.\n",
    "# Open the file cs231n/classifiers/softmax.py and implement the\n",
    "# softmax_loss_naive function.\n",
    "\n",
    "from cs231n.classifiers.softmax import softmax_loss_naive\n",
    "import time\n",
    "\n",
    "# Generate a random softmax weight matrix and use it to compute the loss.\n",
    "W = np.random.randn(3073, 10) * 0.0001\n",
    "loss, grad = softmax_loss_naive(W, X_dev, y_dev, 0.0)\n",
    "\n",
    "# As a rough sanity check, our loss should be something close to -log(0.1).\n",
    "print('loss: %f' % loss)\n",
    "print('sanity check: %f' % (-np.log(0.1)))"
   ]
  },
  {
   "cell_type": "markdown",
   "metadata": {},
   "source": [
    "## Inline Question 1:\n",
    "Why do we expect our loss to be close to -log(0.1)? Explain briefly.**\n",
    "\n",
    "**Your answer:** *当loss是-log(0.1)时说明一开始计算的评分是随机的，正确类的指数评分大约占指数评分和的1/10，而这是个十类分类问题*\n"
   ]
  },
  {
   "cell_type": "code",
   "execution_count": 21,
   "metadata": {
    "collapsed": false
   },
   "outputs": [
    {
     "name": "stdout",
     "output_type": "stream",
     "text": [
      "numerical: 1.287125 analytic: 1.287267, relative error: 5.503586e-05\n",
      "numerical: 1.128378 analytic: 1.128356, relative error: 1.007435e-05\n",
      "numerical: 0.390321 analytic: 0.390394, relative error: 9.405880e-05\n",
      "numerical: 1.514756 analytic: 1.514934, relative error: 5.857146e-05\n",
      "numerical: -0.826915 analytic: -0.826790, relative error: 7.563137e-05\n",
      "numerical: 0.215292 analytic: 0.215394, relative error: 2.374857e-04\n",
      "numerical: -0.935577 analytic: -0.935478, relative error: 5.302314e-05\n",
      "numerical: -2.051201 analytic: -2.051174, relative error: 6.428696e-06\n",
      "numerical: 2.375555 analytic: 2.375487, relative error: 1.439616e-05\n",
      "numerical: -0.444477 analytic: -0.444721, relative error: 2.742873e-04\n",
      "numerical: 2.861766 analytic: 2.857979, relative error: 6.620853e-04\n",
      "numerical: 2.141062 analytic: 2.151825, relative error: 2.507130e-03\n",
      "numerical: 3.499131 analytic: 3.507834, relative error: 1.242165e-03\n",
      "numerical: 0.645657 analytic: 0.647327, relative error: 1.291458e-03\n",
      "numerical: -0.902111 analytic: -0.908049, relative error: 3.280489e-03\n",
      "numerical: -1.214787 analytic: -1.212834, relative error: 8.045249e-04\n",
      "numerical: -0.496571 analytic: -0.521556, relative error: 2.453958e-02\n",
      "numerical: 0.115278 analytic: 0.108906, relative error: 2.842384e-02\n",
      "numerical: 0.730824 analytic: 0.736591, relative error: 3.930112e-03\n",
      "numerical: 1.493038 analytic: 1.498010, relative error: 1.662288e-03\n"
     ]
    }
   ],
   "source": [
    "# Complete the implementation of softmax_loss_naive and implement a (naive)\n",
    "# version of the gradient that uses nested loops.\n",
    "loss, grad = softmax_loss_naive(W, X_dev, y_dev, 0.0)\n",
    "\n",
    "# As we did for the SVM, use numeric gradient checking as a debugging tool.\n",
    "# The numeric gradient should be close to the analytic gradient.\n",
    "from cs231n.gradient_check import grad_check_sparse\n",
    "f = lambda w: softmax_loss_naive(w, X_dev, y_dev, 0.0)[0]\n",
    "grad_numerical = grad_check_sparse(f, W, grad, 10)\n",
    "\n",
    "# similar to SVM case, do another gradient check with regularization\n",
    "loss, grad = softmax_loss_naive(W, X_dev, y_dev, 5e1)\n",
    "f = lambda w: softmax_loss_naive(w, X_dev, y_dev, 5e1)[0]\n",
    "grad_numerical = grad_check_sparse(f, W, grad, 10)"
   ]
  },
  {
   "cell_type": "code",
   "execution_count": 12,
   "metadata": {
    "collapsed": false
   },
   "outputs": [
    {
     "name": "stdout",
     "output_type": "stream",
     "text": [
      "numerical: 1.301109 analytic: 1.301109, relative error: 4.388038e-08\n",
      "numerical: -2.062236 analytic: -2.062236, relative error: 1.891778e-08\n",
      "numerical: 1.517338 analytic: 1.517338, relative error: 2.624890e-08\n",
      "numerical: 2.338511 analytic: 2.338511, relative error: 1.285966e-08\n",
      "numerical: -0.937781 analytic: -0.937781, relative error: 1.038971e-07\n",
      "numerical: 2.777133 analytic: 2.777133, relative error: 1.620225e-08\n",
      "numerical: 3.989247 analytic: 3.989247, relative error: 4.560474e-09\n",
      "numerical: -0.037516 analytic: -0.037516, relative error: 1.039078e-06\n",
      "numerical: -1.186630 analytic: -1.186630, relative error: 1.085248e-08\n",
      "numerical: 0.496043 analytic: 0.496043, relative error: 8.149907e-08\n",
      "numerical: 0.555567 analytic: 0.555567, relative error: 5.621732e-08\n",
      "numerical: -3.232868 analytic: -3.232868, relative error: 1.007284e-08\n",
      "numerical: 2.553307 analytic: 2.553307, relative error: 5.402638e-09\n",
      "numerical: -0.248463 analytic: -0.248463, relative error: 1.183784e-07\n",
      "numerical: -0.683959 analytic: -0.683959, relative error: 5.326617e-08\n",
      "numerical: 0.074158 analytic: 0.074158, relative error: 8.106993e-08\n",
      "numerical: -0.564883 analytic: -0.564883, relative error: 7.019835e-08\n",
      "numerical: 0.120372 analytic: 0.120372, relative error: 1.606504e-07\n",
      "numerical: 3.131007 analytic: 3.131007, relative error: 3.215715e-08\n",
      "numerical: -2.007831 analytic: -2.007831, relative error: 4.026509e-08\n"
     ]
    }
   ],
   "source": [
    "from cs231n.classifiers.softmax import softmax_loss_vectorized\n",
    "# Complete the implementation of softmax_loss_naive and implement a (naive)\n",
    "# version of the gradient that uses nested loops.\n",
    "loss, grad = softmax_loss_vectorized(W, X_dev, y_dev, 0.0)\n",
    "\n",
    "# As we did for the SVM, use numeric gradient checking as a debugging tool.\n",
    "# The numeric gradient should be close to the analytic gradient.\n",
    "from cs231n.gradient_check import grad_check_sparse\n",
    "f = lambda w: softmax_loss_vectorized(w, X_dev, y_dev, 0.0)[0]\n",
    "grad_numerical = grad_check_sparse(f, W, grad, 10)\n",
    "\n",
    "# similar to SVM case, do another gradient check with regularization\n",
    "loss, grad = softmax_loss_vectorized(W, X_dev, y_dev, 5e1)\n",
    "f = lambda w: softmax_loss_vectorized(w, X_dev, y_dev, 5e1)[0]\n",
    "grad_numerical = grad_check_sparse(f, W, grad, 10)"
   ]
  },
  {
   "cell_type": "code",
   "execution_count": 13,
   "metadata": {
    "collapsed": false
   },
   "outputs": [
    {
     "name": "stdout",
     "output_type": "stream",
     "text": [
      "naive loss: 2.370169e+00 computed in 0.045120s\n",
      "vectorized loss: 2.369860e+00 computed in 0.003009s\n",
      "Loss difference: 0.000309\n",
      "Gradient difference: 0.000000\n"
     ]
    }
   ],
   "source": [
    "# Now that we have a naive implementation of the softmax loss function and its gradient,\n",
    "# implement a vectorized version in softmax_loss_vectorized.\n",
    "# The two versions should compute the same results, but the vectorized version should be\n",
    "# much faster.\n",
    "tic = time.time()\n",
    "loss_naive, grad_naive = softmax_loss_naive(W, X_dev, y_dev, 0.000005)\n",
    "toc = time.time()\n",
    "print('naive loss: %e computed in %fs' % (loss_naive, toc - tic))\n",
    "\n",
    "from cs231n.classifiers.softmax import softmax_loss_vectorized\n",
    "tic = time.time()\n",
    "loss_vectorized, grad_vectorized = softmax_loss_vectorized(W, X_dev, y_dev, 0.000005)\n",
    "toc = time.time()\n",
    "print('vectorized loss: %e computed in %fs' % (loss_vectorized, toc - tic))\n",
    "\n",
    "# As we did for the SVM, we use the Frobenius norm to compare the two versions\n",
    "# of the gradient.\n",
    "grad_difference = np.linalg.norm(grad_naive - grad_vectorized, ord='fro')\n",
    "print('Loss difference: %f' % np.abs(loss_naive - loss_vectorized))\n",
    "print('Gradient difference: %f' % grad_difference)"
   ]
  },
  {
   "cell_type": "code",
   "execution_count": 22,
   "metadata": {},
   "outputs": [
    {
     "name": "stdout",
     "output_type": "stream",
     "text": [
      "Loss difference: 0.000311\n",
      "Gradient difference: 0.000000\n"
     ]
    }
   ],
   "source": [
    "from cs231n.classifiers.softmax import softmax_loss_vectorized\n",
    "from cs231n.classifiers.softmax import softmax_loss_naive\n",
    "\n",
    "loss_vectorized, grad_vectorized = softmax_loss_vectorized(W, X_dev, y_dev, 0.000005)\n",
    "loss_naive, grad_naive = softmax_loss_naive(W, X_dev, y_dev, 0.000005)\n",
    "grad_difference = np.linalg.norm(grad_naive - grad_vectorized, ord='fro')\n",
    "print('Loss difference: %f' % np.abs(loss_naive - loss_vectorized))\n",
    "print('Gradient difference: %f' % grad_difference)"
   ]
  },
  {
   "cell_type": "code",
   "execution_count": 24,
   "metadata": {
    "collapsed": false
   },
   "outputs": [
    {
     "name": "stdout",
     "output_type": "stream",
     "text": [
      "lr=1e-07, reg=25000.0\n",
      "iteration 0 / 1500: loss 774.444887\n",
      "iteration 100 / 1500: loss 284.015301\n",
      "iteration 200 / 1500: loss 105.094100\n",
      "iteration 300 / 1500: loss 39.711699\n",
      "iteration 400 / 1500: loss 15.922181\n",
      "iteration 500 / 1500: loss 7.215494\n",
      "iteration 600 / 1500: loss 3.942844\n",
      "iteration 700 / 1500: loss 2.798861\n",
      "iteration 800 / 1500: loss 2.292666\n",
      "iteration 900 / 1500: loss 2.238340\n",
      "iteration 1000 / 1500: loss 2.174047\n",
      "iteration 1100 / 1500: loss 2.098551\n",
      "iteration 1200 / 1500: loss 2.100977\n",
      "iteration 1300 / 1500: loss 2.030697\n",
      "iteration 1400 / 1500: loss 2.130975\n",
      "lr=1e-07, reg=50000.0\n",
      "iteration 0 / 1500: loss 1552.218468\n",
      "iteration 100 / 1500: loss 208.918984\n",
      "iteration 200 / 1500: loss 29.749413\n",
      "iteration 300 / 1500: loss 5.829620\n",
      "iteration 400 / 1500: loss 2.635369\n",
      "iteration 500 / 1500: loss 2.193614\n",
      "iteration 600 / 1500: loss 2.153085\n",
      "iteration 700 / 1500: loss 2.111563\n",
      "iteration 800 / 1500: loss 2.161535\n",
      "iteration 900 / 1500: loss 2.168604\n",
      "iteration 1000 / 1500: loss 2.120052\n",
      "iteration 1100 / 1500: loss 2.145768\n",
      "iteration 1200 / 1500: loss 2.190158\n",
      "iteration 1300 / 1500: loss 2.168688\n",
      "iteration 1400 / 1500: loss 2.120245\n",
      "lr=5e-07, reg=25000.0\n",
      "iteration 0 / 1500: loss 776.179941\n",
      "iteration 100 / 1500: loss 6.926066\n",
      "iteration 200 / 1500: loss 2.175599\n",
      "iteration 300 / 1500: loss 2.077684\n",
      "iteration 400 / 1500: loss 2.137046\n",
      "iteration 500 / 1500: loss 2.064828\n",
      "iteration 600 / 1500: loss 2.103575\n",
      "iteration 700 / 1500: loss 2.153288\n",
      "iteration 800 / 1500: loss 2.086242\n",
      "iteration 900 / 1500: loss 2.081627\n",
      "iteration 1000 / 1500: loss 2.123875\n",
      "iteration 1100 / 1500: loss 2.075500\n",
      "iteration 1200 / 1500: loss 2.106566\n",
      "iteration 1300 / 1500: loss 2.063107\n",
      "iteration 1400 / 1500: loss 2.115789\n",
      "lr=5e-07, reg=50000.0\n",
      "iteration 0 / 1500: loss 1549.432495\n",
      "iteration 100 / 1500: loss 2.174126\n",
      "iteration 200 / 1500: loss 2.131879\n",
      "iteration 300 / 1500: loss 2.130605\n",
      "iteration 400 / 1500: loss 2.164005\n",
      "iteration 500 / 1500: loss 2.110710\n",
      "iteration 600 / 1500: loss 2.201487\n",
      "iteration 700 / 1500: loss 2.088930\n",
      "iteration 800 / 1500: loss 2.163777\n",
      "iteration 900 / 1500: loss 2.124217\n",
      "iteration 1000 / 1500: loss 2.173905\n",
      "iteration 1100 / 1500: loss 2.168114\n",
      "iteration 1200 / 1500: loss 2.178176\n",
      "iteration 1300 / 1500: loss 2.171382\n",
      "iteration 1400 / 1500: loss 2.109515\n",
      "lr 1.000000e-07 reg 2.500000e+04 train accuracy: 0.326388 val accuracy: 0.336000\n",
      "lr 1.000000e-07 reg 5.000000e+04 train accuracy: 0.308592 val accuracy: 0.331000\n",
      "lr 5.000000e-07 reg 2.500000e+04 train accuracy: 0.326245 val accuracy: 0.346000\n",
      "lr 5.000000e-07 reg 5.000000e+04 train accuracy: 0.291286 val accuracy: 0.303000\n",
      "best validation accuracy achieved during cross-validation: 0.346000\n"
     ]
    }
   ],
   "source": [
    "# Use the validation set to tune hyperparameters (regularization strength and\n",
    "# learning rate). You should experiment with different ranges for the learning\n",
    "# rates and regularization strengths; if you are careful you should be able to\n",
    "# get a classification accuracy of over 0.35 on the validation set.\n",
    "from cs231n.classifiers import Softmax\n",
    "results = {}\n",
    "best_val = -1\n",
    "best_softmax = None\n",
    "learning_rates = [1e-7, 5e-7]\n",
    "regularization_strengths = [2.5e4, 5e4]\n",
    "\n",
    "################################################################################\n",
    "# TODO:                                                                        #\n",
    "# Use the validation set to set the learning rate and regularization strength. #\n",
    "# This should be identical to the validation that you did for the SVM; save    #\n",
    "# the best trained softmax classifer in best_softmax.                          #\n",
    "################################################################################\n",
    "for lr in learning_rates:\n",
    "    for reg in regularization_strengths:\n",
    "        print('lr={}, reg={}'.format(lr, reg))\n",
    "        clf = Softmax()\n",
    "        loss_hist = clf.train(X_train, y_train, learning_rate=lr, reg=reg,\n",
    "                              num_iters=1500, verbose=True)\n",
    "        y_train_pred = clf.predict(X_train)\n",
    "        train_accuracy = np.mean(y_train == y_train_pred)\n",
    "        y_val_pred = clf.predict(X_val)\n",
    "        val_accuracy = np.mean(y_val == y_val_pred)\n",
    "        results[(lr, reg)] = (train_accuracy, val_accuracy)\n",
    "        if val_accuracy > best_val:\n",
    "            best_val = val_accuracy\n",
    "            best_softmax = clf\n",
    "################################################################################\n",
    "#                              END OF YOUR CODE                                #\n",
    "################################################################################\n",
    "    \n",
    "# Print out results.\n",
    "for lr, reg in sorted(results):\n",
    "    train_accuracy, val_accuracy = results[(lr, reg)]\n",
    "    print('lr %e reg %e train accuracy: %f val accuracy: %f' % (\n",
    "                lr, reg, train_accuracy, val_accuracy))\n",
    "    \n",
    "print('best validation accuracy achieved during cross-validation: %f' % best_val)"
   ]
  },
  {
   "cell_type": "code",
   "execution_count": 25,
   "metadata": {
    "collapsed": false
   },
   "outputs": [
    {
     "name": "stdout",
     "output_type": "stream",
     "text": [
      "softmax on raw pixels final test set accuracy: 0.335000\n"
     ]
    }
   ],
   "source": [
    "# evaluate on test set\n",
    "# Evaluate the best softmax on test set\n",
    "y_test_pred = best_softmax.predict(X_test)\n",
    "test_accuracy = np.mean(y_test == y_test_pred)\n",
    "print('softmax on raw pixels final test set accuracy: %f' % (test_accuracy, ))"
   ]
  },
  {
   "cell_type": "code",
   "execution_count": 26,
   "metadata": {
    "collapsed": false
   },
   "outputs": [
    {
     "data": {
      "image/png": "[encoded data removed]",
      "text/plain": [
       "<matplotlib.figure.Figure at 0x27200e66748>"
      ]
     },
     "metadata": {},
     "output_type": "display_data"
    }
   ],
   "source": [
    "# Visualize the learned weights for each class\n",
    "w = best_softmax.W[:-1,:] # strip out the bias\n",
    "w = w.reshape(32, 32, 3, 10)\n",
    "\n",
    "w_min, w_max = np.min(w), np.max(w)\n",
    "\n",
    "classes = ['plane', 'car', 'bird', 'cat', 'deer', 'dog', 'frog', 'horse', 'ship', 'truck']\n",
    "for i in range(10):\n",
    "    plt.subplot(2, 5, i + 1)\n",
    "    \n",
    "    # Rescale the weights to be between 0 and 255\n",
    "    wimg = 255.0 * (w[:, :, :, i].squeeze() - w_min) / (w_max - w_min)\n",
    "    plt.imshow(wimg.astype('uint8'))\n",
    "    plt.axis('off')\n",
    "    plt.title(classes[i])"
   ]
  },
  {
   "cell_type": "code",
   "execution_count": null,
   "metadata": {},
   "outputs": [],
   "source": []
  }
 ],
 "metadata": {
  "kernelspec": {
   "display_name": "Python 3",
   "language": "python",
   "name": "python3"
  },
  "language_info": {
   "codemirror_mode": {
    "name": "ipython",
    "version": 3
   },
   "file_extension": ".py",
   "mimetype": "text/x-python",
   "name": "python",
   "nbconvert_exporter": "python",
   "pygments_lexer": "ipython3",
   "version": "3.6.3"
  }
 },
 "nbformat": 4,
 "nbformat_minor": 2
}
